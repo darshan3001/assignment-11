{
  "nbformat": 4,
  "nbformat_minor": 0,
  "metadata": {
    "colab": {
      "name": "mydict",
      "provenance": []
    },
    "kernelspec": {
      "name": "python3",
      "display_name": "Python 3"
    }
  },
  "cells": [
    {
      "cell_type": "code",
      "metadata": {
        "id": "oGhw_cP7KkZA",
        "colab_type": "code",
        "colab": {
          "base_uri": "https://localhost:8080/",
          "height": 34
        },
        "outputId": "792870fa-3e17-44af-e5f6-fca6789de259"
      },
      "source": [
        "def returnSum(myDict):\n",
        "  sum = 0\n",
        "  for i in myDict:\n",
        "    sum=sum+myDict[i]\n",
        "  return sum\n",
        "dict = {'a': 100, 'b': 200, 'c': 300}\n",
        "print(\"sum :\",returnSum(dict))"
      ],
      "execution_count": 1,
      "outputs": [
        {
          "output_type": "stream",
          "text": [
            "sum : 600\n"
          ],
          "name": "stdout"
        }
      ]
    },
    {
      "cell_type": "code",
      "metadata": {
        "id": "Tyv1oARQLaza",
        "colab_type": "code",
        "colab": {}
      },
      "source": [
        ""
      ],
      "execution_count": null,
      "outputs": []
    }
  ]
}